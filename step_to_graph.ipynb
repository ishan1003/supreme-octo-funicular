{
  "cells": [
    {
      "cell_type": "code",
      "execution_count": null,
      "metadata": {
        "colab": {
          "base_uri": "https://localhost:8080/",
          "height": 659
        },
        "id": "HqNiwb1HZZsf",
        "outputId": "fb3b8ff8-a481-478e-ad26-516321b6e56e"
      },
      "outputs": [],
      "source": [
        "import pickle\n",
        "import networkx as nx\n",
        "import matplotlib.pyplot as plt\n",
        "\n",
        "# Load the .pkl file\n",
        "with open('./my_model_graph1.pkl', 'rb') as f:\n",
        "    data = pickle.load(f)\n",
        "\n",
        "# Extract data\n",
        "edge_index = data['edge_index']\n",
        "face_features = data['face_features']\n",
        "# edge_features = data['edge_features'] # This key also doesn't exist\n",
        "\n",
        "# Create a graph from the edge_index\n",
        "G = nx.Graph()\n",
        "G.add_edges_from(edge_index.T) # Transpose edge_index to get a list of tuples\n",
        "\n",
        "# Draw the graph\n",
        "pos = nx.spring_layout(G, seed=42)  # Spring layout for nice spacing\n",
        "plt.figure(figsize=(8, 6))\n",
        "nx.draw(G, pos, with_labels=False, node_color='skyblue', edge_color='gray', node_size=800, font_size=12)\n",
        "\n",
        "# Optional: Add labels\n",
        "labels = {i: f\"F{i}\" for i in G.nodes}\n",
        "nx.draw_networkx_labels(G, pos, labels, font_size=10)\n",
        "\n",
        "plt.title(\"B-Rep Face Adjacency Graph\")\n",
        "plt.axis('off')\n",
        "plt.show()"
      ]
    },
    {
      "cell_type": "code",
      "execution_count": null,
      "metadata": {
        "id": "r6jcPcUmgMeY"
      },
      "outputs": [],
      "source": [
        "import pickle\n",
        "\n",
        "with open(\"my_model_graph.pkl\", \"rb\") as f:\n",
        "    data = pickle.load(f)\n",
        "\n"
      ]
    },
    {
      "cell_type": "code",
      "execution_count": null,
      "metadata": {
        "colab": {
          "base_uri": "https://localhost:8080/"
        },
        "id": "1lQLDQuIhytm",
        "outputId": "1741893a-7ad2-4778-c171-5297f5ae6bb8"
      },
      "outputs": [],
      "source": [
        "print(\"Keys in data:\", data.keys())\n"
      ]
    },
    {
      "cell_type": "code",
      "execution_count": null,
      "metadata": {
        "colab": {
          "base_uri": "https://localhost:8080/",
          "height": 806
        },
        "id": "CuZzDXV3iE-k",
        "outputId": "1ce2ed73-51f9-4f60-bd10-fcdde347effd"
      },
      "outputs": [],
      "source": [
        "import pandas as pd\n",
        "\n",
        "# Convert and display face features\n",
        "if 'face_features' in data:\n",
        "    face_df = pd.DataFrame(data['face_features'])\n",
        "    print(\"Face Features:\")\n",
        "    display(face_df)\n",
        "\n",
        "# Convert and display edge features\n",
        "if 'brep_edge_features' in data:\n",
        "    edge_df = pd.DataFrame(data['brep_edge_features'])\n",
        "    print(\"Edge Features:\")\n",
        "    display(edge_df)\n"
      ]
    },
    {
      "cell_type": "code",
      "execution_count": null,
      "metadata": {
        "colab": {
          "base_uri": "https://localhost:8080/",
          "height": 611
        },
        "id": "otFdlKN_74pE",
        "outputId": "f0580e12-80dd-4edf-b079-64251ed53999"
      },
      "outputs": [],
      "source": [
        "import pickle\n",
        "import numpy as np\n",
        "import matplotlib.pyplot as plt\n",
        "\n",
        "# Load the graph data from the .pkl file\n",
        "with open('my_model_graph1.pkl', 'rb') as f:\n",
        "    data = pickle.load(f)\n",
        "\n",
        "# Access A1 shortest path matrix\n",
        "A1 = data['proximity_A1_shortest_path']\n",
        "\n",
        "print(\"Proximity A1: Shortest Path Matrix (Face-to-Face):\")\n",
        "print(A1)\n",
        "\n",
        "# Optional: Visualize it as a heatmap\n",
        "plt.imshow(A1, cmap='viridis')\n",
        "plt.colorbar(label='Shortest Path Length')\n",
        "plt.title('Proximity A1: Shortest Path Between Faces')\n",
        "plt.xlabel('Face Index')\n",
        "plt.ylabel('Face Index')\n",
        "plt.show()\n"
      ]
    },
    {
      "cell_type": "code",
      "execution_count": null,
      "metadata": {
        "colab": {
          "base_uri": "https://localhost:8080/",
          "height": 73
        },
        "id": "9rqoxjNC5ANs",
        "outputId": "1c7f6c3b-e7b4-48ca-aa55-d927e84ddeb5"
      },
      "outputs": [],
      "source": [
        "from google.colab import files\n",
        "uploaded = files.upload()\n"
      ]
    },
    {
      "cell_type": "code",
      "execution_count": null,
      "metadata": {
        "colab": {
          "base_uri": "https://localhost:8080/"
        },
        "id": "1Ysej2OLHso6",
        "outputId": "b1137747-ef56-4593-a068-8a17fd86dcd1"
      },
      "outputs": [],
      "source": [
        "print(data.keys())\n"
      ]
    },
    {
      "cell_type": "code",
      "execution_count": null,
      "metadata": {
        "colab": {
          "base_uri": "https://localhost:8080/"
        },
        "id": "UsZpLxtbHwLz",
        "outputId": "089d9ea5-0f01-485d-b533-82e116e90ac7"
      },
      "outputs": [],
      "source": [
        "import torch\n",
        "from torch_geometric.data import Data\n",
        "import numpy as np\n",
        "\n",
        "# Assuming face_features is a dictionary of numpy arrays as shown in the notebook state\n",
        "face_features_dict = data['face_features']\n",
        "\n",
        "# Convert the dictionary of numpy arrays to a single numpy array by stacking them column-wise\n",
        "# Ensure all arrays have the same number of rows (nodes)\n",
        "feature_arrays = [face_features_dict[key] for key in face_features_dict]\n",
        "# Check if all arrays have the same number of rows\n",
        "if all(arr.shape[0] == feature_arrays[0].shape[0] for arr in feature_arrays):\n",
        "    face_features_np = np.stack(feature_arrays, axis=1)\n",
        "else:\n",
        "    raise ValueError(\"Feature arrays in 'face_features' have different numbers of rows.\")\n",
        "\n",
        "# Convert the combined numpy array to a torch tensor\n",
        "x_tensor = torch.tensor(face_features_np, dtype=torch.float)\n",
        "\n",
        "# Access edge index using the dictionary key and transpose\n",
        "edge_index_tensor = torch.tensor(data['edge_index'], dtype=torch.long).T\n",
        "\n",
        "graph_data = Data(\n",
        "    x=x_tensor,  # node features\n",
        "    edge_index=edge_index_tensor # edge index must be [2, num_edges]\n",
        ")\n",
        "\n",
        "print(graph_data)"
      ]
    },
    {
      "cell_type": "code",
      "execution_count": null,
      "metadata": {
        "id": "CcgE6SN1KgqN"
      },
      "outputs": [],
      "source": [
        "import torch.nn as nn\n",
        "\n",
        "class FaceEmbeddingMLP(nn.Module):\n",
        "    def __init__(self, in_dim=3, hidden_dim=32, out_dim=64):\n",
        "        super().__init__()\n",
        "        self.mlp = nn.Sequential(\n",
        "            nn.Linear(in_dim, hidden_dim),\n",
        "            nn.ReLU(),\n",
        "            nn.Linear(hidden_dim, out_dim)\n",
        "        )\n",
        "\n",
        "    def forward(self, x):\n",
        "        return self.mlp(x)\n"
      ]
    },
    {
      "cell_type": "code",
      "execution_count": null,
      "metadata": {
        "colab": {
          "base_uri": "https://localhost:8080/"
        },
        "id": "KqvMh4bpKm7n",
        "outputId": "78b05289-c60e-400c-840c-84f50f417989"
      },
      "outputs": [],
      "source": [
        "import torch\n",
        "from torch_geometric.data import Data\n",
        "import numpy as np\n",
        "\n",
        "# Recreate graph_data with original features\n",
        "face_features_dict = data['face_features']\n",
        "feature_arrays = [face_features_dict[key] for key in face_features_dict]\n",
        "if all(arr.shape[0] == feature_arrays[0].shape[0] for arr in feature_arrays):\n",
        "    face_features_np = np.stack(feature_arrays, axis=1)\n",
        "else:\n",
        "    raise ValueError(\"Feature arrays in 'face_features' have different numbers of rows.\")\n",
        "x_tensor = torch.tensor(face_features_np, dtype=torch.float)\n",
        "# Access edge index using the dictionary key and DO NOT transpose\n",
        "edge_index_tensor = torch.tensor(data['edge_index'], dtype=torch.long)\n",
        "\n",
        "graph_data = Data(\n",
        "    x=x_tensor,  # node features\n",
        "    edge_index=edge_index_tensor # edge index must be [2, num_edges]\n",
        ")\n",
        "\n",
        "# Initialize the embedding layer with the correct input dimension\n",
        "embedding_layer = FaceEmbeddingMLP(in_dim=graph_data.x.shape[1])\n",
        "x_embedded = embedding_layer(graph_data.x)\n",
        "\n",
        "# Optionally update graph_data.x with the embedded features\n",
        "graph_data.x = x_embedded\n",
        "\n",
        "print(\"Original graph_data.x shape:\", x_tensor.shape)\n",
        "print(\"Embedded graph_data.x shape:\", x_embedded.shape)\n",
        "print(\"graph_data.edge_index shape:\", graph_data.edge_index.shape)"
      ]
    },
    {
      "cell_type": "code",
      "execution_count": null,
      "metadata": {
        "colab": {
          "base_uri": "https://localhost:8080/"
        },
        "id": "yRUuQFY7LKti",
        "outputId": "2deb0515-fe09-4cbe-a19c-f2f744fa30fd"
      },
      "outputs": [],
      "source": [
        "import torch\n",
        "import torch.nn.functional as F\n",
        "from torch_geometric.nn import GATConv\n",
        "from torch_geometric.data import Data\n",
        "\n",
        "# Define a simple GAT model\n",
        "class GAT(torch.nn.Module):\n",
        "    def __init__(self, in_channels, hidden_channels, out_channels, heads=1):\n",
        "        super(GAT, self).__init__()\n",
        "        self.gat1 = GATConv(in_channels, hidden_channels, heads=heads)\n",
        "        self.gat2 = GATConv(hidden_channels * heads, out_channels, heads=1)  # final heads = 1\n",
        "\n",
        "    def forward(self, x, edge_index):\n",
        "        x = self.gat1(x, edge_index)\n",
        "        x = F.elu(x)\n",
        "        x = self.gat2(x, edge_index)\n",
        "        return x\n",
        "\n",
        "# Create the model\n",
        "model = GAT(in_channels=64, hidden_channels=32, out_channels=64, heads=4)\n",
        "\n",
        "# Forward pass\n",
        "out = model(graph_data.x, graph_data.edge_index)\n",
        "print(\"Output node embeddings shape:\", out.shape)\n"
      ]
    },
    {
      "cell_type": "code",
      "execution_count": null,
      "metadata": {
        "colab": {
          "base_uri": "https://localhost:8080/"
        },
        "id": "N81VxLU3OAN_",
        "outputId": "c41a12ab-a50f-4a5d-9b97-2a77ccb97b2a"
      },
      "outputs": [],
      "source": [
        "from sklearn.cluster import KMeans\n",
        "import numpy as np\n",
        "\n",
        "# Fix for the RuntimeError\n",
        "embeddings_np = np.array(out.detach().cpu().tolist())\n",
        "\n",
        "# Run KMeans clustering\n",
        "kmeans = KMeans(n_clusters=3, random_state=0).fit(embeddings_np)\n",
        "face_labels = kmeans.labels_\n",
        "\n",
        "print(\"Cluster labels for each face:\", face_labels)\n"
      ]
    },
    {
      "cell_type": "code",
      "execution_count": null,
      "metadata": {
        "colab": {
          "base_uri": "https://localhost:8080/"
        },
        "id": "vDAYFctSPvA_",
        "outputId": "899ac4ca-560d-479e-8269-d1dcae97bf5f"
      },
      "outputs": [],
      "source": [
        "for i, label in enumerate(face_labels):\n",
        "    print(f\"Face {i}: Cluster {label}, Type: {face_features_dict['type'][i]}, Area: {face_features_dict['area'][i]}\")"
      ]
    },
    {
      "cell_type": "code",
      "execution_count": null,
      "metadata": {
        "colab": {
          "base_uri": "https://localhost:8080/"
        },
        "id": "Cn6JO_QJq-FC",
        "outputId": "c8a48f79-ded0-49fc-ccd4-19438be6bd52"
      },
      "outputs": [],
      "source": [
        "import h5py\n",
        "\n",
        "file = h5py.File(\"/content/training_MFCAD++.h5\", \"r\")\n",
        "print(list(file.keys()))  # Should show node features, edge index, labels, etc.\n"
      ]
    },
    {
      "cell_type": "code",
      "execution_count": null,
      "metadata": {
        "colab": {
          "base_uri": "https://localhost:8080/"
        },
        "id": "0y_XRJykvYNQ",
        "outputId": "0e8c58d0-997c-497c-99f1-4c9af603c6ba"
      },
      "outputs": [],
      "source": [
        "import h5py\n",
        "\n",
        "# Load the dataset file\n",
        "file_path = \"/content/training_MFCAD++.h5\"\n",
        "with h5py.File(file_path, \"r\") as f:\n",
        "    print(\"Top-level keys (each CAD sample):\")\n",
        "    print(list(f.keys()))  # ['0', '1', '2', ..., '1999']\n",
        "\n",
        "    # Let's inspect the structure under the first sample\n",
        "    sample_key = '0'\n",
        "    print(f\"\\nKeys under '{sample_key}':\")\n",
        "    print(list(f[sample_key].keys()))\n"
      ]
    },
    {
      "cell_type": "code",
      "execution_count": null,
      "metadata": {
        "colab": {
          "base_uri": "https://localhost:8080/"
        },
        "id": "glnKun0swQU8",
        "outputId": "98075735-1cd9-46ac-8618-0de7aab3ea2e"
      },
      "outputs": [],
      "source": [
        "import h5py\n",
        "\n",
        "with h5py.File('/content/training_MFCAD++.h5', 'r') as f:\n",
        "    keys = list(f.keys())\n",
        "    print(\"Number of entries:\", len(keys))\n",
        "    first_key = keys[0]\n",
        "    print(\"First key:\", first_key)\n",
        "    print(\"Available subkeys in group:\")\n",
        "    print(list(f[first_key].keys()))\n"
      ]
    },
    {
      "cell_type": "code",
      "execution_count": null,
      "metadata": {
        "id": "xV2xvt_Bvq0Y"
      },
      "outputs": [],
      "source": [
        "class MFCADDataset(torch.utils.data.Dataset):\n",
        "    def __init__(self, h5_file):\n",
        "        self.h5_file = h5_file\n",
        "        self.file = h5py.File(h5_file, 'r')\n",
        "        self.keys = list(self.file.keys())\n",
        "\n",
        "    def __len__(self):\n",
        "        return len(self.keys)\n",
        "\n",
        "    def __getitem__(self, idx):\n",
        "        key = self.keys[idx]\n",
        "        group = self.file[key]\n",
        "\n",
        "        # Node features\n",
        "        x = torch.tensor(group['V_1'][:], dtype=torch.float)\n",
        "\n",
        "        # Edges\n",
        "        edge_index = torch.tensor(group['E_1_idx'][:], dtype=torch.long).t().contiguous()\n",
        "        edge_attr = torch.tensor(group['E_1_values'][:], dtype=torch.float)\n",
        "\n",
        "        # Labels\n",
        "        y_np = group['labels'][:]\n",
        "        y = torch.tensor(y_np.astype(int), dtype=torch.long)\n",
        "\n",
        "        return Data(x=x, edge_index=edge_index, edge_attr=edge_attr, y=y)\n"
      ]
    },
    {
      "cell_type": "code",
      "execution_count": null,
      "metadata": {
        "colab": {
          "base_uri": "https://localhost:8080/"
        },
        "id": "C40WSnBOvted",
        "outputId": "abe507cd-aaa3-44e3-ae0d-e18b1677b6f4"
      },
      "outputs": [],
      "source": [
        "dataset = MFCADDataset(\"/content/training_MFCAD++.h5\")\n",
        "print(f\"Number of graphs: {len(dataset)}\")\n",
        "\n",
        "sample = dataset[0]\n",
        "print(sample)\n",
        "\n"
      ]
    },
    {
      "cell_type": "code",
      "execution_count": null,
      "metadata": {
        "colab": {
          "base_uri": "https://localhost:8080/"
        },
        "id": "AxikcHW8w-eW",
        "outputId": "0d84d648-08b4-47dc-d64a-7c22a36d4bf7"
      },
      "outputs": [],
      "source": [
        "with h5py.File('/content/training_MFCAD++.h5', 'r') as f:\n",
        "    group = f['0']\n",
        "    print(\"V_1:\", group['V_1'][:].shape)\n",
        "    print(\"V_2:\", group['V_2'][:].shape)\n",
        "    print(\"E_1_idx:\", group['E_1_idx'][:].shape)\n",
        "    print(\"E_1_values:\", group['E_1_values'][:].shape)\n",
        "    print(\"facet_labels:\", group['facet_labels'][:].shape)\n",
        "    print(\"labels:\", group['labels'][:].shape)\n"
      ]
    },
    {
      "cell_type": "code",
      "execution_count": null,
      "metadata": {
        "colab": {
          "base_uri": "https://localhost:8080/",
          "height": 659
        },
        "id": "vNIDWI8xxwA2",
        "outputId": "a90834e2-7360-4842-8893-5b15375f9e3b"
      },
      "outputs": [],
      "source": [
        "from torch_geometric.utils import to_networkx\n",
        "import matplotlib.pyplot as plt\n",
        "import networkx as nx\n",
        "\n",
        "data = dataset[0]\n",
        "G = to_networkx(data, to_undirected=True)\n",
        "plt.figure(figsize=(8, 6))\n",
        "nx.draw(G, node_size=20)\n",
        "plt.title(\"Sample Graph\")\n",
        "plt.show()\n"
      ]
    },
    {
      "cell_type": "code",
      "execution_count": null,
      "metadata": {
        "id": "oA32Yx_wyYl9"
      },
      "outputs": [],
      "source": [
        "from torch_geometric.utils import train_test_split_edges\n",
        "\n",
        "def create_masks(data, train_ratio=0.7, val_ratio=0.15):\n",
        "    num_nodes = data.num_nodes\n",
        "    indices = torch.randperm(num_nodes)\n",
        "\n",
        "    train_end = int(train_ratio * num_nodes)\n",
        "    val_end = train_end + int(val_ratio * num_nodes)\n",
        "\n",
        "    data.train_mask = torch.zeros(num_nodes, dtype=torch.bool)\n",
        "    data.val_mask = torch.zeros(num_nodes, dtype=torch.bool)\n",
        "    data.test_mask = torch.zeros(num_nodes, dtype=torch.bool)\n",
        "\n",
        "    data.train_mask[indices[:train_end]] = True\n",
        "    data.val_mask[indices[train_end:val_end]] = True\n",
        "    data.test_mask[indices[val_end:]] = True\n",
        "    return data\n"
      ]
    },
    {
      "cell_type": "code",
      "execution_count": null,
      "metadata": {
        "id": "tb_qFHDnybGe"
      },
      "outputs": [],
      "source": [
        "data = create_masks(dataset[0])\n"
      ]
    },
    {
      "cell_type": "code",
      "execution_count": null,
      "metadata": {
        "id": "-OObJk8FycvB"
      },
      "outputs": [],
      "source": [
        "import torch\n",
        "import torch.nn.functional as F\n",
        "from torch_geometric.nn import GATConv\n",
        "\n",
        "class GAT(torch.nn.Module):\n",
        "    def __init__(self, in_channels, hidden_channels, out_channels, heads=8, dropout=0.6):\n",
        "        super(GAT, self).__init__()\n",
        "        self.conv1 = GATConv(in_channels, hidden_channels, heads=heads, dropout=dropout)\n",
        "        self.conv2 = GATConv(hidden_channels * heads, hidden_channels, heads=heads, dropout=dropout)\n",
        "        self.conv3 = GATConv(hidden_channels * heads, hidden_channels, heads=heads, dropout=dropout)\n",
        "        self.conv4 = GATConv(hidden_channels * heads, out_channels, heads=1, concat = False, dropout=dropout)\n",
        "\n",
        "    def forward(self, x, edge_index):\n",
        "        x = F.dropout(x, p=0.3, training=self.training)\n",
        "        x = F.elu(self.conv1(x, edge_index))\n",
        "        x = F.dropout(x, p=0.3, training=self.training)\n",
        "        x = F.elu(self.conv2(x, edge_index))\n",
        "        x = F.dropout(x, p=0.3, training=self.training)\n",
        "        x = self.conv4(x, edge_index)\n",
        "        return x"
      ]
    },
    {
      "cell_type": "code",
      "execution_count": null,
      "metadata": {
        "id": "VG84ARPIyead"
      },
      "outputs": [],
      "source": [
        "device = torch.device('cuda' if torch.cuda.is_available() else 'cpu')\n",
        "\n",
        "# Define in_channels and num_classes\n",
        "# in_channels for GAT should be the output dimension of the embedding layer\n",
        "in_channels = 64\n",
        "num_classes = 25 # Number of unique classes in your labels\n",
        "\n",
        "# Change model to GAT\n",
        "model = GAT(in_channels=in_channels, hidden_channels=64, out_channels=num_classes, heads=8).to(device) # Using GAT model\n",
        "data = data.to(device)\n",
        "optimizer = torch.optim.AdamW(model.parameters(), lr=0.01, weight_decay=5e-4)\n",
        "\n",
        "\n",
        "# Assuming embedding_layer is defined and available from a previous cell (e.g., KqvMh4bpKm7n)\n",
        "\n",
        "def train():\n",
        "    model.train()\n",
        "    optimizer.zero_grad()\n",
        "\n",
        "    # Apply embedding layer to the node features\n",
        "    embedded_x = embedding_layer(data.x)\n",
        "\n",
        "    out = model(embedded_x, data.edge_index)\n",
        "    loss = F.cross_entropy(out[data.train_mask], data.y[data.train_mask])\n",
        "    loss.backward()\n",
        "    optimizer.step()\n",
        "    return loss.item()\n",
        "\n",
        "\n",
        "def test():\n",
        "    model.eval()\n",
        "    with torch.no_grad(): # Use no_grad for evaluation\n",
        "        # Apply embedding layer to the node features\n",
        "        embedded_x = embedding_layer(data.x)\n",
        "\n",
        "        out = model(embedded_x, data.edge_index)\n",
        "        pred = out.argmax(dim=1)\n",
        "\n",
        "        accs = []\n",
        "        for mask in [data.train_mask, data.val_mask, data.test_mask]:\n",
        "            correct = pred[mask].eq(data.y[mask]).sum().item()\n",
        "            acc = correct / mask.sum().item()\n",
        "            accs.append(acc)\n",
        "        return accs  # [train_acc, val_acc, test_acc]"
      ]
    },
    {
      "cell_type": "code",
      "execution_count": null,
      "metadata": {
        "id": "aiAc15PN-aIU"
      },
      "outputs": [],
      "source": [
        "embedding_layer = torch.nn.Linear(data.num_node_features, in_channels).to(device)\n",
        "\n"
      ]
    },
    {
      "cell_type": "code",
      "execution_count": null,
      "metadata": {
        "colab": {
          "base_uri": "https://localhost:8080/"
        },
        "id": "L9kILV_2ygsf",
        "outputId": "4ad1b2f2-c767-49d0-fbbc-10a7fcb45770"
      },
      "outputs": [],
      "source": [
        "for epoch in range(1, 2001):\n",
        "    loss = train()\n",
        "    train_acc, val_acc, test_acc = test()\n",
        "    if epoch % 100 == 0:\n",
        "        print(f\"Epoch {epoch:03d}, Loss: {loss:.4f}, Train: {train_acc:.4f}, Val: {val_acc:.4f}, Test: {test_acc:.4f}\")\n",
        "\n"
      ]
    },
    {
      "cell_type": "code",
      "execution_count": null,
      "metadata": {
        "colab": {
          "base_uri": "https://localhost:8080/"
        },
        "id": "tpPT2s9N-spQ",
        "outputId": "c58536e6-a1bb-4935-d7c3-09c5bb6de046"
      },
      "outputs": [],
      "source": [
        "print(\"Unique classes in labels:\", data.y.unique())\n",
        "print(\"Max label value:\", data.y.max().item())\n"
      ]
    }
  ],
  "metadata": {
    "colab": {
      "provenance": []
    },
    "kernelspec": {
      "display_name": "brep_env",
      "language": "python",
      "name": "python3"
    },
    "language_info": {
      "codemirror_mode": {
        "name": "ipython",
        "version": 3
      },
      "file_extension": ".py",
      "mimetype": "text/x-python",
      "name": "python",
      "nbconvert_exporter": "python",
      "pygments_lexer": "ipython3",
      "version": "3.9.19"
    }
  },
  "nbformat": 4,
  "nbformat_minor": 0
}
